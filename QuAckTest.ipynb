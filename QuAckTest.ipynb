{
  "cells": [
    {
      "cell_type": "markdown",
      "metadata": {
        "jukit_cell_id": "2paArwdZLZ"
      },
      "source": [
        "# Tests for the QuacK lab"
      ]
    },
    {
      "cell_type": "code",
      "execution_count": 19,
      "metadata": {
        "jukit_cell_id": "DbxdkTjwHU"
      },
      "outputs": [],
      "source": [
        "import nbimporter\n",
        "import numpy as np\n",
        "from qiskit import QuantumCircuit, QuantumRegister, ClassicalRegister\n",
        "from src import QuAcK"
      ]
    },
    {
      "cell_type": "code",
      "execution_count": 20,
      "metadata": {
        "jukit_cell_id": "nBFtFeAy5X"
      },
      "outputs": [],
      "source": [
        "# Functions\n",
        "\n",
        "ket_to_bra = QuAcK.ket_to_bra\n",
        "is_unitary = QuAcK.is_unitary\n",
        "Z_gate = QuAcK.Z_gate\n",
        "expectation = QuAcK.expectation\n",
        "tensor_product = QuAcK.tensor_product\n",
        "CNOT_Cirq = QuAcK.CNOT_Cirq\n",
        "FFT_pointgen = QuAcK.FFT_pointgen\n",
        "binary_to_decimal = QuAcK.binary_to_decimal\n",
        "qpe_circuit1 = QuAcK.qpe_circuit1\n",
        "qpe_circuit2 = QuAcK.qpe_circuit2\n",
        "classical_shor = QuAcK.classical_shor\n",
        "decode = QuAcK.decode"
      ]
    },
    {
      "cell_type": "markdown",
      "metadata": {},
      "source": [
        "## Question 1"
      ]
    },
    {
      "cell_type": "code",
      "execution_count": 21,
      "metadata": {
        "jukit_cell_id": "X4SPTiMXmW"
      },
      "outputs": [
        {
          "name": "stdout",
          "output_type": "stream",
          "text": [
            "Test case 1 passed!\n",
            "Test case 2 passed!\n"
          ]
        }
      ],
      "source": [
        "kets = [[1+1j, 2+5j, 3+2j], [1+1j, 2+5j, 3-2j]]\n",
        "ans = [[[1-1j], [2-5j], [3-2j]], [[1-1j], [2-5j], [3+2j]]]\n",
        "\n",
        "for i in range(len(kets)):\n",
        "    try:\n",
        "        bra = ket_to_bra(kets[i])\n",
        "        if len(bra) != len(ans[i]):\n",
        "            print(\"Test case \" + str(i+1) + \" failed!\")\n",
        "            continue\n",
        "        for j in range(len(ans[i])):\n",
        "            if ans[i][j] != bra[j]:\n",
        "                print(\"Test case \" + str(i+1) + \" failed!\")\n",
        "                break\n",
        "        else:\n",
        "            print(\"Test case \" + str(i+1) + \" passed!\")\n",
        "    except:\n",
        "        print(\"Test case \" + str(i+1) + \" failed!\")"
      ]
    },
    {
      "cell_type": "markdown",
      "metadata": {},
      "source": [
        "## Question 2"
      ]
    },
    {
      "cell_type": "code",
      "execution_count": 22,
      "metadata": {
        "jukit_cell_id": "3bdDHbWtHD"
      },
      "outputs": [
        {
          "name": "stdout",
          "output_type": "stream",
          "text": [
            "Test case 1 passed!\n"
          ]
        }
      ],
      "source": [
        "matrices = [[[1, 0], [0, 1]]]\n",
        "ans = [True]\n",
        "for i in range(len(matrices)):\n",
        "    try:\n",
        "        sol = is_unitary(matrices[i])\n",
        "        if type(sol) != bool:\n",
        "            print(\"Test case \" + str(i+1) + \" failed!\")\n",
        "        elif (sol == ans[i]):\n",
        "            print(\"Test case \" + str(i+1) + \" passed!\")\n",
        "        else:\n",
        "            print(\"Test case \" + str(i+1) + \" failed!\")\n",
        "    except:\n",
        "        print(\"Test case \" + str(i+1) + \" failed!\")"
      ]
    },
    {
      "cell_type": "markdown",
      "metadata": {},
      "source": [
        "## Question 3"
      ]
    },
    {
      "cell_type": "code",
      "execution_count": 23,
      "metadata": {
        "jukit_cell_id": "VYoTITr5bT"
      },
      "outputs": [
        {
          "name": "stdout",
          "output_type": "stream",
          "text": [
            "Test case 1 passed!\n"
          ]
        }
      ],
      "source": [
        "qc = QuantumCircuit(1)\n",
        "qc.h(0)\n",
        "qc.x(0)\n",
        "qc.h(0)\n",
        "\n",
        "i = 0\n",
        "ans = Z_gate()\n",
        "\n",
        "try:\n",
        "    if ans == qc:\n",
        "        print(\"Test case \" + str(i+1) + \" passed!\")\n",
        "    else:\n",
        "        print(\"Test case \" + str(i+1) + \" failed!\")\n",
        "except:\n",
        "    print(\"Test case \" + str(i+1) + \" failed!\")"
      ]
    },
    {
      "cell_type": "markdown",
      "metadata": {},
      "source": [
        "## Question 4"
      ]
    },
    {
      "cell_type": "code",
      "execution_count": 24,
      "metadata": {
        "jukit_cell_id": "gby3Ca5ptI"
      },
      "outputs": [
        {
          "name": "stdout",
          "output_type": "stream",
          "text": [
            "Test case 1 passed!\n",
            "Test case 2 passed!\n"
          ]
        }
      ],
      "source": [
        "eigenvalues = [[0+8j,6], [1+9j,12]]\n",
        "ans = [6, 12]\n",
        "\n",
        "for i in range(len(eigenvalues)):\n",
        "    try:\n",
        "        sol = expectation(eigenvalues[i])\n",
        "        if sol == ans[i]:\n",
        "            print(\"Test case \" + str(i+1) + \" passed!\")\n",
        "        else:\n",
        "            print(\"Test case \" + str(i+1) + \" failed!\")\n",
        "    except:\n",
        "        print(\"Test case \" + str(i+1) + \" failed!\")"
      ]
    },
    {
      "cell_type": "markdown",
      "metadata": {},
      "source": [
        "## Question 5"
      ]
    },
    {
      "cell_type": "code",
      "execution_count": 25,
      "metadata": {
        "jukit_cell_id": "5rPMrKUAox"
      },
      "outputs": [
        {
          "name": "stdout",
          "output_type": "stream",
          "text": [
            "Test case 1 passed!\n"
          ]
        }
      ],
      "source": [
        "arr1 = [[1, 2, 3]]\n",
        "arr2 = [[1, 2, 3]]\n",
        "\n",
        "ans = [[1, 2, 3, 2, 4, 6, 3, 6, 9]]\n",
        "\n",
        "for i in range(len(arr1)):\n",
        "    try:\n",
        "        sol = tensor_product(arr1[i], arr2[i])\n",
        "        if sol == ans[i]:\n",
        "            print(\"Test case \" + str(i+1) + \" passed!\")\n",
        "        else:\n",
        "            print(\"Test case \" + str(i+1) + \" failed!\")\n",
        "    except:\n",
        "        print(\"Test case \" + str(i+1) + \" failed!\")"
      ]
    },
    {
      "cell_type": "markdown",
      "metadata": {},
      "source": [
        "## Question 6"
      ]
    },
    {
      "cell_type": "code",
      "execution_count": 26,
      "metadata": {
        "jukit_cell_id": "Ret8BIh4yK"
      },
      "outputs": [
        {
          "name": "stdout",
          "output_type": "stream",
          "text": [
            "Test case 1 passed!\n"
          ]
        }
      ],
      "source": [
        "qc = QuantumCircuit(2,1)\n",
        "qc.h(0)\n",
        "qc.cx(0,1)\n",
        "qc.measure(1,0)\n",
        "\n",
        "sol = CNOT_Cirq()\n",
        "\n",
        "i = 0\n",
        "try:\n",
        "    if qc == sol:\n",
        "        print(\"Test case \" + str(i+1) + \" passed!\")\n",
        "    else:\n",
        "        print(\"Test case \" + str(i+1) + \" failed!\")\n",
        "except:\n",
        "    print(\"Test case \" + str(i+1) + \" failed!\")\n",
        "\n",
        "# qc.draw(output='mpl')\n",
        "# sol.draw(output='mpl')"
      ]
    },
    {
      "cell_type": "markdown",
      "metadata": {},
      "source": [
        "## Question 7"
      ]
    },
    {
      "cell_type": "code",
      "execution_count": 27,
      "metadata": {
        "jukit_cell_id": "4Zs6AbMuWL"
      },
      "outputs": [
        {
          "name": "stdout",
          "output_type": "stream",
          "text": [
            "Test case 1 failed!\n"
          ]
        }
      ],
      "source": [
        "order_px = [1]\n",
        "order_qx = [1]\n",
        "\n",
        "ans = [(-0.49999999999999983+0.8660254037844387j)]\n",
        "\n",
        "for i in range(len(order_px)):\n",
        "    try:\n",
        "        sol = FFT_pointgen(order_px[i], order_qx[i])\n",
        "        if sol == ans[i]:\n",
        "            print(\"Test case \" + str(i+1) + \" passed!\")\n",
        "        else:\n",
        "            print(\"Test case \" + str(i+1) + \" failed!\")\n",
        "    except:\n",
        "        print(\"Test case \" + str(i+1) + \" failed!\")"
      ]
    },
    {
      "cell_type": "markdown",
      "metadata": {},
      "source": [
        "## Question 8"
      ]
    },
    {
      "cell_type": "code",
      "execution_count": 28,
      "metadata": {
        "jukit_cell_id": "om6uCAMkaV"
      },
      "outputs": [
        {
          "name": "stdout",
          "output_type": "stream",
          "text": [
            "Test case 1 passed!\n",
            "Test case 2 passed!\n",
            "Test case 3 passed!\n"
          ]
        }
      ],
      "source": [
        "binary = [\"0.11\", \"0.1\", \"0.101\"]\n",
        "ans = [0.75, 0.5, 0.625]\n",
        "for i in range(len(binary)):\n",
        "    try:\n",
        "        sol = binary_to_decimal(binary[i])\n",
        "        assert sol == ans[i]\n",
        "        print(\"Test case \" + str(i+1) + \" passed!\")\n",
        "    except:\n",
        "        print(\"Test case \" + str(i+1) + \" failed!\")"
      ]
    },
    {
      "cell_type": "markdown",
      "metadata": {},
      "source": [
        "## Question 9"
      ]
    },
    {
      "cell_type": "code",
      "execution_count": 29,
      "metadata": {},
      "outputs": [],
      "source": [
        "def qft_dagger(qc, n):\n",
        "    \"\"\"n-qubit QFTdagger the first n qubits in circ\"\"\"\n",
        "    # Don't forget the Swaps!\n",
        "    for qubit in range(n//2):\n",
        "        qc.swap(qubit, n-qubit-1)\n",
        "    for j in range(n):\n",
        "        for m in range(j):\n",
        "            qc.cp(-np.pi/float(2**(j-m)), m, j)\n",
        "        qc.h(j)"
      ]
    },
    {
      "cell_type": "code",
      "execution_count": 30,
      "metadata": {
        "jukit_cell_id": "0M4eh34fta"
      },
      "outputs": [
        {
          "name": "stdout",
          "output_type": "stream",
          "text": [
            "Test case 1 passed!\n",
            "Test case 2 passed!\n",
            "Test case 3 passed!\n",
            "Test case 4 passed!\n",
            "Test case 5 passed!\n",
            "Test case 6 passed!\n"
          ]
        }
      ],
      "source": [
        "def qpe_circuit1_sol(n):\n",
        "    qpe = QuantumCircuit(n,n - 1)\n",
        "    for qubit in range(n - 1):\n",
        "        qpe.h(qubit)\n",
        "        \n",
        "    for i in range (n - 1):\n",
        "        for j in range(2**i) :\n",
        "            qpe.cp(2*np.pi/7*j,n - 1,i)\n",
        "            \n",
        "    qft_dagger(qpe,n)\n",
        "    \n",
        "    for i in range (n - 1) : \n",
        "        qpe.measure(i,i)\n",
        "    \n",
        "    return qpe\n",
        "def qpe_circuit2_sol(n):\n",
        "    qpe = QuantumCircuit(n,n - 1)\n",
        "    for qubit in range(n - 1):\n",
        "        qpe.h(qubit)\n",
        "        \n",
        "    for i in range (n - 1):\n",
        "        for j in range(2**i) :\n",
        "            qpe.cp(2*np.pi/7,n - 1,i)\n",
        "            \n",
        "    qft_dagger(qpe,n)\n",
        "    \n",
        "    for i in range (n - 1) : \n",
        "        qpe.measure(i,i)\n",
        "    \n",
        "    return qpe\n",
        "\n",
        "inputs = [4, 5, 6]\n",
        "ans1 = [qpe_circuit1_sol(i) for i in inputs]\n",
        "ans2 = [qpe_circuit2_sol(i) for i in inputs]\n",
        "\n",
        "for i in range(len(inputs)):\n",
        "    try:\n",
        "        assert qpe_circuit1(inputs[i]) == ans1[i]\n",
        "        print(\"Test case \" + str(i+1) + \" passed!\")\n",
        "    except:\n",
        "        print(\"Test case \" + str(i+1) + \" failed!\")\n",
        "\n",
        "for i in range(len(inputs)):\n",
        "    try:\n",
        "        assert qpe_circuit2(inputs[i]) == ans2[i]\n",
        "        print(\"Test case \" + str(i+1 + len(inputs)) + \" passed!\")\n",
        "    except:\n",
        "        print(\"Test case \" + str(i+1 + len(inputs)) + \" failed!\")"
      ]
    },
    {
      "cell_type": "markdown",
      "metadata": {},
      "source": [
        "## Question 10"
      ]
    },
    {
      "cell_type": "code",
      "execution_count": 31,
      "metadata": {
        "jukit_cell_id": "gCFSSzwgT2"
      },
      "outputs": [
        {
          "name": "stdout",
          "output_type": "stream",
          "text": [
            "Test case 1 passed!\n"
          ]
        }
      ],
      "source": [
        "inputs = [391]\n",
        "ans = [[17, 23]]\n",
        "\n",
        "for i in range(len(inputs)):\n",
        "    try:\n",
        "        assert ans[i] == classical_shor(inputs[i])\n",
        "        print(\"Test case \" + str(i+1) + \" passed!\")\n",
        "    except:\n",
        "        print(\"Test case \" + str(i+1) + \" failed!\")"
      ]
    },
    {
      "cell_type": "markdown",
      "metadata": {},
      "source": [
        "## Question 11"
      ]
    },
    {
      "cell_type": "code",
      "execution_count": 32,
      "metadata": {
        "jukit_cell_id": "BvtjpYa3fe"
      },
      "outputs": [
        {
          "name": "stdout",
          "output_type": "stream",
          "text": [
            "Test case 1 passed!\n"
          ]
        }
      ],
      "source": [
        "input1 = [65]\n",
        "input2 = [5]\n",
        "input3 = [41]\n",
        "\n",
        "ans = [9]\n",
        "\n",
        "for i in range(len(input1)):\n",
        "    try:\n",
        "        assert ans[i] == decode(input1[i], input2[i], input3[i])\n",
        "        print(\"Test case \" + str(i+1) + \" passed!\")\n",
        "    except:\n",
        "        print(\"Test case \" + str(i+1) + \" failed!\")"
      ]
    }
  ],
  "metadata": {
    "anaconda-cloud": {},
    "kernelspec": {
      "display_name": "python",
      "language": "python",
      "name": "python3"
    },
    "language_info": {
      "codemirror_mode": {
        "name": "ipython",
        "version": 3
      },
      "file_extension": ".py",
      "mimetype": "text/x-python",
      "name": "python",
      "nbconvert_exporter": "python",
      "pygments_lexer": "ipython3",
      "version": "3.10.1"
    }
  },
  "nbformat": 4,
  "nbformat_minor": 4
}
